{
 "cells": [
  {
   "cell_type": "code",
   "execution_count": 67,
   "metadata": {},
   "outputs": [],
   "source": [
    "import numpy as np\n",
    "import random"
   ]
  },
  {
   "cell_type": "code",
   "execution_count": 68,
   "metadata": {},
   "outputs": [
    {
     "name": "stdout",
     "output_type": "stream",
     "text": [
      "3\n",
      "20\n",
      "20\n"
     ]
    }
   ],
   "source": [
    "L=20\n",
    "\n",
    "psi=np.zeros((3,L,L), dtype=complex)\n",
    "\n",
    "#psi[0]= psi_{-1} #\n",
    "#psi[2]= psi_{+1} #\n",
    "\n",
    "dx=0.1\n",
    "dt=dx/10\n",
    "\n",
    "cs=-1\n",
    "cn=1\n",
    "mu=1\n",
    "M=1\n",
    "\n",
    "q=-1\n",
    "\n",
    "\n",
    "print(len(psi))\n",
    "print(len(psi[0]))\n",
    "print(len(psi[0,0]))\n",
    "\n"
   ]
  },
  {
   "cell_type": "code",
   "execution_count": 69,
   "metadata": {},
   "outputs": [
    {
     "name": "stdout",
     "output_type": "stream",
     "text": [
      "[[[1.+0.j 1.+0.j 1.+0.j ... 1.+0.j 1.+0.j 1.+0.j]\n",
      "  [1.+0.j 1.+0.j 1.+0.j ... 1.+0.j 1.+0.j 1.+0.j]\n",
      "  [1.+0.j 1.+0.j 1.+0.j ... 1.+0.j 1.+0.j 1.+0.j]\n",
      "  ...\n",
      "  [1.+0.j 1.+0.j 1.+0.j ... 1.+0.j 1.+0.j 1.+0.j]\n",
      "  [1.+0.j 1.+0.j 1.+0.j ... 1.+0.j 1.+0.j 1.+0.j]\n",
      "  [1.+0.j 1.+0.j 1.+0.j ... 1.+0.j 1.+0.j 1.+0.j]]\n",
      "\n",
      " [[0.+0.j 0.+0.j 0.+0.j ... 0.+0.j 0.+0.j 0.+0.j]\n",
      "  [0.+0.j 0.+0.j 0.+0.j ... 0.+0.j 0.+0.j 0.+0.j]\n",
      "  [0.+0.j 0.+0.j 0.+0.j ... 0.+0.j 0.+0.j 0.+0.j]\n",
      "  ...\n",
      "  [0.+0.j 0.+0.j 0.+0.j ... 0.+0.j 0.+0.j 0.+0.j]\n",
      "  [0.+0.j 0.+0.j 0.+0.j ... 0.+0.j 0.+0.j 0.+0.j]\n",
      "  [0.+0.j 0.+0.j 0.+0.j ... 0.+0.j 0.+0.j 0.+0.j]]\n",
      "\n",
      " [[0.+0.j 0.+0.j 0.+0.j ... 0.+0.j 0.+0.j 0.+0.j]\n",
      "  [0.+0.j 0.+0.j 0.+0.j ... 0.+0.j 0.+0.j 0.+0.j]\n",
      "  [0.+0.j 0.+0.j 0.+0.j ... 0.+0.j 0.+0.j 0.+0.j]\n",
      "  ...\n",
      "  [0.+0.j 0.+0.j 0.+0.j ... 0.+0.j 0.+0.j 0.+0.j]\n",
      "  [0.+0.j 0.+0.j 0.+0.j ... 0.+0.j 0.+0.j 0.+0.j]\n",
      "  [0.+0.j 0.+0.j 0.+0.j ... 0.+0.j 0.+0.j 0.+0.j]]]\n"
     ]
    }
   ],
   "source": [
    "#for i in range(len(psi)):\n",
    "#    for j in range(0,len(psi[0])):\n",
    "#        for k in range(0,len(psi[0,0])):\n",
    "#            psi[i,j,k]=random.random()+random.random()*1j\n",
    "\n",
    "psi[0]=1\n",
    "psi[1]=0\n",
    "psi[2]=0\n",
    "\n",
    "psi=psi/np.sqrt(np.absolute(psi[0])**2+np.absolute(psi[1])**2+np.absolute(psi[2])**2)\n",
    "\n",
    "print(psi)\n",
    "\n",
    "psi_in=psi\n"
   ]
  },
  {
   "cell_type": "code",
   "execution_count": 70,
   "metadata": {},
   "outputs": [
    {
     "name": "stdout",
     "output_type": "stream",
     "text": [
      "[[1. 1. 1. 1. 1. 1. 1. 1. 1. 1. 1. 1. 1. 1. 1. 1. 1. 1. 1. 1.]\n",
      " [1. 1. 1. 1. 1. 1. 1. 1. 1. 1. 1. 1. 1. 1. 1. 1. 1. 1. 1. 1.]\n",
      " [1. 1. 1. 1. 1. 1. 1. 1. 1. 1. 1. 1. 1. 1. 1. 1. 1. 1. 1. 1.]\n",
      " [1. 1. 1. 1. 1. 1. 1. 1. 1. 1. 1. 1. 1. 1. 1. 1. 1. 1. 1. 1.]\n",
      " [1. 1. 1. 1. 1. 1. 1. 1. 1. 1. 1. 1. 1. 1. 1. 1. 1. 1. 1. 1.]\n",
      " [1. 1. 1. 1. 1. 1. 1. 1. 1. 1. 1. 1. 1. 1. 1. 1. 1. 1. 1. 1.]\n",
      " [1. 1. 1. 1. 1. 1. 1. 1. 1. 1. 1. 1. 1. 1. 1. 1. 1. 1. 1. 1.]\n",
      " [1. 1. 1. 1. 1. 1. 1. 1. 1. 1. 1. 1. 1. 1. 1. 1. 1. 1. 1. 1.]\n",
      " [1. 1. 1. 1. 1. 1. 1. 1. 1. 1. 1. 1. 1. 1. 1. 1. 1. 1. 1. 1.]\n",
      " [1. 1. 1. 1. 1. 1. 1. 1. 1. 1. 1. 1. 1. 1. 1. 1. 1. 1. 1. 1.]\n",
      " [1. 1. 1. 1. 1. 1. 1. 1. 1. 1. 1. 1. 1. 1. 1. 1. 1. 1. 1. 1.]\n",
      " [1. 1. 1. 1. 1. 1. 1. 1. 1. 1. 1. 1. 1. 1. 1. 1. 1. 1. 1. 1.]\n",
      " [1. 1. 1. 1. 1. 1. 1. 1. 1. 1. 1. 1. 1. 1. 1. 1. 1. 1. 1. 1.]\n",
      " [1. 1. 1. 1. 1. 1. 1. 1. 1. 1. 1. 1. 1. 1. 1. 1. 1. 1. 1. 1.]\n",
      " [1. 1. 1. 1. 1. 1. 1. 1. 1. 1. 1. 1. 1. 1. 1. 1. 1. 1. 1. 1.]\n",
      " [1. 1. 1. 1. 1. 1. 1. 1. 1. 1. 1. 1. 1. 1. 1. 1. 1. 1. 1. 1.]\n",
      " [1. 1. 1. 1. 1. 1. 1. 1. 1. 1. 1. 1. 1. 1. 1. 1. 1. 1. 1. 1.]\n",
      " [1. 1. 1. 1. 1. 1. 1. 1. 1. 1. 1. 1. 1. 1. 1. 1. 1. 1. 1. 1.]\n",
      " [1. 1. 1. 1. 1. 1. 1. 1. 1. 1. 1. 1. 1. 1. 1. 1. 1. 1. 1. 1.]\n",
      " [1. 1. 1. 1. 1. 1. 1. 1. 1. 1. 1. 1. 1. 1. 1. 1. 1. 1. 1. 1.]]\n"
     ]
    }
   ],
   "source": [
    "def norm(x) :\n",
    "    return np.sqrt(abs(x[0])**2+abs(x[1])**2+abs(x[2])**2)\n",
    "\n",
    "def normsq(x) :\n",
    "    return abs(x[0])**2+abs(x[1])**2+abs(x[2])**2\n",
    "\n",
    "\n",
    "\n",
    "print(norm(psi))\n"
   ]
  },
  {
   "cell_type": "code",
   "execution_count": 71,
   "metadata": {},
   "outputs": [],
   "source": [
    "def sx(x) :\n",
    "    return (1/np.sqrt(2))*(np.conjugate(x[2])*x[1]+np.conjugate(x[1])*x[2]+np.conjugate(x[1])*x[0]+np.conjugate(x[0])*x[1])\n",
    "\n",
    "def sy(x) :\n",
    "    return (1j/np.sqrt(2))*(-np.conjugate(x[2])*x[1]+np.conjugate(x[1])*x[2]-np.conjugate(x[1])*x[0]+np.conjugate(x[0])*x[1])\n",
    "\n",
    "def sz(x) :\n",
    "    return np.conjugate(x[2])*x[2]-np.conjugate(x[0])*x[0]"
   ]
  },
  {
   "cell_type": "code",
   "execution_count": 72,
   "metadata": {},
   "outputs": [
    {
     "data": {
      "text/plain": [
       "'\\ndef devx(x) :\\n    y=np.zeros((len(x),len(x[0]),len(x[0,0])), dtype=complex)\\n    for i in range(len(x)):\\n        for j in range(2,len(x[0])-2):\\n            for k in range(0,len(x[0,0])):\\n                y[i,j,k]=(-x[i,j+2,k]+8*x[i,j+1,k]-8*x[i,j-1,k]+x[i,j-2,k])/(12*dx)\\n        for k in range(0,len(x[0,0])):\\n            y[i,1,k]=(x[i,2,k]-x[i,0,k])/(2*dx)\\n            y[i,len(x[0])-2,k]=(x[i,len(x[0])-1,k]-x[i,len(x[0])-3,k])/(2*dx)\\n            y[i,0,k]=(x[i,1,k]-x[i,0,k])/(dx)\\n            y[i,len(x[0])-1,k]=(x[i,len(x[0])-1,k]-x[i,len(x[0])-2,k])/(dx)\\n        \\n    return y\\n\\ndef devy(x) :\\n    y=np.zeros((len(x),len(x[0]),len(x[0,0])), dtype=complex)\\n    for i in range(len(x)):\\n        for j in range(0,len(x[0])):\\n            for k in range(2,len(x[0,0])-2):\\n                y[i,j,k]=(-x[i,j,k+2]+8*x[i,j,k+1]-8*x[i,j,k-1]+x[i,j,k-2])/(12*dx)\\n        for j in range(0,len(x[0])):\\n            y[i,j,1]=(x[i,j,2]-x[i,j,0])/(2*dx)\\n            y[i,j,len(x[0])-2]=(x[i,j,len(x[0])-1]-x[i,j,len(x[0])-3])/(2*dx)\\n            y[i,j,0]=(x[i,j,1]-x[i,j,0])/(dx)\\n            y[i,j,len(x[0])-1]=(x[i,j,len(x[0])-1]-x[i,j,len(x[0])-2])/(dx)\\n\\n    return y\\n'"
      ]
     },
     "execution_count": 72,
     "metadata": {},
     "output_type": "execute_result"
    }
   ],
   "source": [
    "def devx(x) :\n",
    "    y=np.zeros((len(x),len(x[0]),len(x[0,0])), dtype=complex)\n",
    "    for i in range(len(x)):\n",
    "        for j in range(1,len(x[0])-1):\n",
    "            for k in range(0,len(x[0,0])):\n",
    "                y[i,j,k]=(x[i,j+1,k]-x[i,j-1,k])/(2*dx)\n",
    "        for k in range(0,len(x[0,0])):\n",
    "            y[i,0,k]=(x[i,1,k]-x[i,0,k])/(dx)\n",
    "            y[i,len(x[0])-1,k]=(x[i,len(x[0])-1,k]-x[i,len(x[0])-2,k])/(dx)\n",
    "        \n",
    "    return y\n",
    "\n",
    "\n",
    "def devy(x) :\n",
    "    y=np.zeros((len(x),len(x[0]),len(x[0,0])), dtype=complex)\n",
    "    for i in range(len(x)):\n",
    "        for j in range(0,len(x[0])):\n",
    "            for k in range(1,len(x[0,0])-1):\n",
    "                y[i,j,k]=(x[i,j,k+1]-x[i,j,k-1])/(2*dx)\n",
    "        for j in range(0,len(x[0])):\n",
    "            y[i,j,0]=(x[i,j,1]-x[i,j,0])/(dx)\n",
    "            y[i,j,len(x[0,0])-1]=(x[i,j,len(x[0,0])-1]-x[i,j,len(x[0,0])-2])/(dx)\n",
    "        \n",
    "    return y\n",
    "\n",
    "\n",
    "\n",
    "\n",
    "\n",
    "'''\n",
    "def devx(x) :\n",
    "    y=np.zeros((len(x),len(x[0]),len(x[0,0])), dtype=complex)\n",
    "    for i in range(len(x)):\n",
    "        for j in range(2,len(x[0])-2):\n",
    "            for k in range(0,len(x[0,0])):\n",
    "                y[i,j,k]=(-x[i,j+2,k]+8*x[i,j+1,k]-8*x[i,j-1,k]+x[i,j-2,k])/(12*dx)\n",
    "        for k in range(0,len(x[0,0])):\n",
    "            y[i,1,k]=(x[i,2,k]-x[i,0,k])/(2*dx)\n",
    "            y[i,len(x[0])-2,k]=(x[i,len(x[0])-1,k]-x[i,len(x[0])-3,k])/(2*dx)\n",
    "            y[i,0,k]=(x[i,1,k]-x[i,0,k])/(dx)\n",
    "            y[i,len(x[0])-1,k]=(x[i,len(x[0])-1,k]-x[i,len(x[0])-2,k])/(dx)\n",
    "        \n",
    "    return y\n",
    "\n",
    "def devy(x) :\n",
    "    y=np.zeros((len(x),len(x[0]),len(x[0,0])), dtype=complex)\n",
    "    for i in range(len(x)):\n",
    "        for j in range(0,len(x[0])):\n",
    "            for k in range(2,len(x[0,0])-2):\n",
    "                y[i,j,k]=(-x[i,j,k+2]+8*x[i,j,k+1]-8*x[i,j,k-1]+x[i,j,k-2])/(12*dx)\n",
    "        for j in range(0,len(x[0])):\n",
    "            y[i,j,1]=(x[i,j,2]-x[i,j,0])/(2*dx)\n",
    "            y[i,j,len(x[0])-2]=(x[i,j,len(x[0])-1]-x[i,j,len(x[0])-3])/(2*dx)\n",
    "            y[i,j,0]=(x[i,j,1]-x[i,j,0])/(dx)\n",
    "            y[i,j,len(x[0])-1]=(x[i,j,len(x[0])-1]-x[i,j,len(x[0])-2])/(dx)\n",
    "\n",
    "    return y\n",
    "'''"
   ]
  },
  {
   "cell_type": "code",
   "execution_count": 73,
   "metadata": {},
   "outputs": [],
   "source": [
    "def dev2x(x) :\n",
    "    y=np.zeros((len(x),len(x[0]),len(x[0,0])), dtype=complex)\n",
    "    for i in range(len(x)):\n",
    "        for j in range(1,len(x[0])-1):\n",
    "            for k in range(0,len(x[0,0])):\n",
    "                y[i,j,k]=(x[i,j+1,k]+x[i,j-1,k]-2*x[i,j,k])/(dx*dx)\n",
    "        for k in range(0,len(x[0,0])):\n",
    "            y[i,0,k]=(x[i,1,k]-devx(x)[i,0,k]*dx-x[i,0,k])*2/(dx**2)\n",
    "            y[i,len(x[0])-1,k]=(x[i,len(x[0])-2,k]+devx(x)[i,len(x[0])-1,k]*dx-x[i,len(x[0])-1,k])*2/(dx**2)\n",
    "    return y\n",
    "\n",
    "def dev2y(x) :\n",
    "    y=np.zeros((len(x),len(x[0]),len(x[0,0])), dtype=complex)\n",
    "    for i in range(len(x)):\n",
    "        for j in range(0,len(x[0])):\n",
    "            for k in range(1,len(x[0,0])-1):\n",
    "                y[i,j,k]=(x[i,j,k+1]+x[i,j,k-1]-2*x[i,j,k])/(dx*dx)\n",
    "        for j in range(0,len(x[0])):\n",
    "            y[i,j,0]=(x[i,j,1]-devy(x)[i,j,0]*dx-x[i,j,0])*2/(dx**2)\n",
    "            y[i,j,len(x[0])-1]=(x[i,j,len(x[0])-2]-devy(x)[i,j,len(x[0])-1]*dx-x[i,j,len(x[0])-1])*2/(dx**2)\n",
    "    return y\n",
    "\n",
    "\n",
    "\n",
    "\n",
    "\n",
    "\n",
    "'''\n",
    "\n",
    "def dev2x(x) :\n",
    "    y=np.zeros((len(x),len(x[0]),len(x[0,0])), dtype=complex)\n",
    "    for i in range(len(x)):\n",
    "        for j in range(2,len(x[0])-2):\n",
    "            for k in range(0,len(x[0,0])):\n",
    "                y[i,j,k]=(-x[i,j+2,k]+16*x[i,j+1,k]-30*x[i,j,k]+16*x[i,j-1,k]-x[i,j-2,k])/(12*dx**2)\n",
    "        for k in range(0,len(x[0,0])):\n",
    "            y[i,1,k]=(x[i,2,k]+x[i,0,k]-2*x[i,1,k])/(dx**2)\n",
    "            y[i,len(x[0])-2,k]=(x[i,len(x[0])-1,k]+x[i,len(x[0])-3,k]-2*x[i,len(x[0])-2,k])/(dx**2)\n",
    "            y[i,0,k]=(x[i,2,k]-2*x[i,1,k]+x[i,0,k])/(dx**2)\n",
    "            y[i,len(x[0])-1,k]=(x[i,len(x[0])-1,k]-2*x[i,len(x[0])-2,k]+x[i,len(x[0])-3,k])/(dx**2)\n",
    "    return y\n",
    "\n",
    "def dev2y(x) :\n",
    "    y=np.zeros((len(x),len(x[0]),len(x[0,0])), dtype=complex)\n",
    "    for i in range(len(x)):\n",
    "        for j in range(0,len(x[0])):\n",
    "            for k in range(2,len(x[0])-2):\n",
    "                y[i,j,k]=(-x[i,j,k+2]+16*x[i,j,k+1]-30*x[i,j,k]+16*x[i,j,k-1]-x[i,j,k-2])/(12*dx**2)\n",
    "        for j in range(0,len(x[0])):\n",
    "            y[i,j,1]=(x[i,j,2]+x[i,j,0]-2*x[i,j,1])/(dx**2)\n",
    "            y[i,j,len(x[0])-2]=(x[i,j,len(x[0])-1]+x[i,j,len(x[0])-3]-2*x[i,j,len(x[0])-2])/(dx**2)\n",
    "            y[i,j,0]=(x[i,j,2]-2*x[i,j,1]+x[i,j,0])/(dx**2)\n",
    "            y[i,j,len(x[0])-1]=(x[i,j,len(x[0])-1]-2*x[i,j,len(x[0])-2]+x[i,j,len(x[0])-3])/(dx**2)\n",
    "    return y\n",
    "\n",
    "'''\n",
    "def lap(x) :\n",
    "    return dev2x(x)+dev2y(x)"
   ]
  },
  {
   "cell_type": "code",
   "execution_count": 74,
   "metadata": {},
   "outputs": [],
   "source": [
    "def Egp(x) :\n",
    "    y=0\n",
    "    \n",
    "    DxX=devx(x)\n",
    "    DyX=devy(x)\n",
    "    Sx=sx(x)\n",
    "    Sy=sy(x)\n",
    "    Sz=sz(x)\n",
    "    \n",
    "\n",
    "    for j in range(len(x[0])) :\n",
    "        for k in range(len(x[0,0])) :\n",
    "            y=y+(dx**2)*(1/(2*M))*(np.absolute(DxX[0,j,k])**2+np.absolute(DyX[0,j,k])**2)\n",
    "            y=y+(dx**2)*(1/(2*M))*(np.absolute(DxX[1,j,k])**2+np.absolute(DyX[1,j,k])**2)\n",
    "            y=y+(dx**2)*(1/(2*M))*(np.absolute(DxX[2,j,k])**2+np.absolute(DyX[2,j,k])**2)\n",
    "            y=y+(dx**2)*(cs/2)*(Sx[j,k]**2+Sy[j,k]**2+Sz[j,k]**2)\n",
    "            #y=y+(dx**2)*((cn/2)*(normsq(x)[j,k]**2)-mu*normsq(x)[j,k])\n",
    "            y=y+(dx**2)*q*(np.absolute(x[2,j,k])**2+np.absolute(x[0,j,k])**2)\n",
    "\n",
    "    return y\n"
   ]
  },
  {
   "cell_type": "code",
   "execution_count": 75,
   "metadata": {},
   "outputs": [
    {
     "name": "stdout",
     "output_type": "stream",
     "text": [
      "(-5.999999999999909+0j)\n"
     ]
    }
   ],
   "source": [
    "print(Egp(psi))"
   ]
  },
  {
   "cell_type": "code",
   "execution_count": 76,
   "metadata": {},
   "outputs": [],
   "source": [
    "'''\n",
    "def evo0(x) :\n",
    "    return -1j*(-(1/(2*M))*lap(x)[0]+cs*(sx(x)*(1/np.sqrt(2))*(x[1])+sy(x)*(-1j/np.sqrt(2))*(x[1])+sz(x)*x[0])+q*x[0]+cn*normsq(x)*x[0]-mu*x[0])\n",
    "\n",
    "def evo1(x) :\n",
    "    return -1j*(-(1/(2*M))*lap(x)[1]+cs*(sx(x)*(1/np.sqrt(2))*(x[0]+x[2])+sy(x)*(1j/np.sqrt(2))*(x[0]-x[2]))+cn*normsq(x)*x[1]-mu*x[1])\n",
    "\n",
    "def evo2(x) :\n",
    "    return -1j*(-(1/(2*M))*lap(x)[2]+cs*(sx(x)*(1/np.sqrt(2))*(x[1])+sy(x)*(1j/np.sqrt(2))*(x[1])+sz(x)*(-x[2]))+q*x[2]+cn*normsq(x)*x[2]-mu*x[2])\n",
    "'''\n",
    "\n",
    "\n",
    "\n",
    "def evo0(x) :\n",
    "    return -1j*(-(1/(2*M))*lap(x)[0]+cs*(sx(x)*(1/np.sqrt(2))*(x[1])+sy(x)*(-1j/np.sqrt(2))*(x[1])+sz(x)*x[0])+q*x[0])\n",
    "\n",
    "def evo1(x) :\n",
    "    return -1j*(-(1/(2*M))*lap(x)[1]+cs*(sx(x)*(1/np.sqrt(2))*(x[0]+x[2])+sy(x)*(1j/np.sqrt(2))*(x[0]-x[2])))\n",
    "\n",
    "def evo2(x) :\n",
    "    return -1j*(-(1/(2*M))*lap(x)[2]+cs*(sx(x)*(1/np.sqrt(2))*(x[1])+sy(x)*(1j/np.sqrt(2))*(x[1])+sz(x)*(-x[2]))+q*x[2])\n",
    "\n"
   ]
  },
  {
   "cell_type": "code",
   "execution_count": 77,
   "metadata": {},
   "outputs": [
    {
     "name": "stdout",
     "output_type": "stream",
     "text": [
      "(-5.999999999999909+0j)\n",
      "(-5.999999999999909+0j)\n",
      "(-5.999999999999909+0j)\n",
      "(-5.999999999999909+0j)\n",
      "(-5.999999999999909+0j)\n",
      "(-5.999999999999909+0j)\n",
      "(-5.999999999999909+0j)\n",
      "(-5.999999999999909+0j)\n",
      "(-5.999999999999909+0j)\n",
      "(-5.999999999999909+0j)\n",
      "(-5.999999999999909+0j)\n",
      "(-5.999999999999909+0j)\n",
      "(-5.999999999999909+0j)\n",
      "(-5.999999999999909+0j)\n",
      "(-5.999999999999909+0j)\n",
      "(-5.999999999999909+0j)\n",
      "(-5.999999999999909+0j)\n",
      "(-5.999999999999909+0j)\n",
      "(-5.999999999999909+0j)\n",
      "(-5.999999999999909+0j)\n",
      "(-5.999999999999909+0j)\n",
      "(-5.999999999999909+0j)\n",
      "(-5.999999999999909+0j)\n",
      "(-5.999999999999909+0j)\n",
      "(-5.999999999999909+0j)\n",
      "(-5.999999999999909+0j)\n",
      "(-5.999999999999909+0j)\n",
      "(-5.999999999999909+0j)\n",
      "(-5.999999999999909+0j)\n",
      "(-5.999999999999909+0j)\n",
      "(-5.999999999999909+0j)\n",
      "(-5.999999999999909+0j)\n",
      "(-5.999999999999909+0j)\n",
      "(-5.999999999999909+0j)\n",
      "(-5.999999999999909+0j)\n",
      "(-5.999999999999909+0j)\n",
      "(-5.999999999999909+0j)\n",
      "(-5.999999999999909+0j)\n",
      "(-5.999999999999909+0j)\n",
      "(-5.999999999999909+0j)\n",
      "(-5.999999999999909+0j)\n",
      "(-5.999999999999909+0j)\n",
      "(-5.999999999999909+0j)\n",
      "(-5.999999999999909+0j)\n",
      "(-5.999999999999909+0j)\n",
      "(-5.999999999999909+0j)\n",
      "(-5.999999999999909+0j)\n",
      "(-5.999999999999909+0j)\n",
      "(-5.999999999999909+0j)\n",
      "(-5.999999999999909+0j)\n",
      "(-5.999999999999909+0j)\n"
     ]
    },
    {
     "ename": "KeyboardInterrupt",
     "evalue": "",
     "output_type": "error",
     "traceback": [
      "\u001b[0;31m---------------------------------------------------------------------------\u001b[0m",
      "\u001b[0;31mKeyboardInterrupt\u001b[0m                         Traceback (most recent call last)",
      "Cell \u001b[0;32mIn[77], line 16\u001b[0m\n\u001b[1;32m     13\u001b[0m k1[\u001b[39m1\u001b[39m]\u001b[39m=\u001b[39mevo1(psi)\n\u001b[1;32m     14\u001b[0m k1[\u001b[39m2\u001b[39m]\u001b[39m=\u001b[39mevo2(psi)\n\u001b[0;32m---> 16\u001b[0m k2[\u001b[39m0\u001b[39m]\u001b[39m=\u001b[39mevo0(psi\u001b[39m+\u001b[39;49m(dt\u001b[39m/\u001b[39;49m\u001b[39m2\u001b[39;49m)\u001b[39m*\u001b[39;49mk1)\n\u001b[1;32m     17\u001b[0m k2[\u001b[39m1\u001b[39m]\u001b[39m=\u001b[39mevo1(psi\u001b[39m+\u001b[39m(dt\u001b[39m/\u001b[39m\u001b[39m2\u001b[39m)\u001b[39m*\u001b[39mk1)\n\u001b[1;32m     18\u001b[0m k2[\u001b[39m2\u001b[39m]\u001b[39m=\u001b[39mevo2(psi\u001b[39m+\u001b[39m(dt\u001b[39m/\u001b[39m\u001b[39m2\u001b[39m)\u001b[39m*\u001b[39mk1)\n",
      "Cell \u001b[0;32mIn[76], line 15\u001b[0m, in \u001b[0;36mevo0\u001b[0;34m(x)\u001b[0m\n\u001b[1;32m     14\u001b[0m \u001b[39mdef\u001b[39;00m \u001b[39mevo0\u001b[39m(x) :\n\u001b[0;32m---> 15\u001b[0m     \u001b[39mreturn\u001b[39;00m \u001b[39m-\u001b[39m\u001b[39m1\u001b[39mj\u001b[39m*\u001b[39m(\u001b[39m-\u001b[39m(\u001b[39m1\u001b[39m\u001b[39m/\u001b[39m(\u001b[39m2\u001b[39m\u001b[39m*\u001b[39mM))\u001b[39m*\u001b[39mlap(x)[\u001b[39m0\u001b[39m]\u001b[39m+\u001b[39mcs\u001b[39m*\u001b[39m(sx(x)\u001b[39m*\u001b[39m(\u001b[39m1\u001b[39m\u001b[39m/\u001b[39mnp\u001b[39m.\u001b[39msqrt(\u001b[39m2\u001b[39m))\u001b[39m*\u001b[39m(x[\u001b[39m1\u001b[39m])\u001b[39m+\u001b[39msy(x)\u001b[39m*\u001b[39m(\u001b[39m-\u001b[39m\u001b[39m1\u001b[39mj\u001b[39m/\u001b[39mnp\u001b[39m.\u001b[39msqrt(\u001b[39m2\u001b[39m))\u001b[39m*\u001b[39m(x[\u001b[39m1\u001b[39m])\u001b[39m+\u001b[39msz(x)\u001b[39m*\u001b[39mx[\u001b[39m0\u001b[39m])\u001b[39m+\u001b[39mq\u001b[39m*\u001b[39mx[\u001b[39m0\u001b[39m])\n",
      "Cell \u001b[0;32mIn[73], line 58\u001b[0m, in \u001b[0;36mlap\u001b[0;34m(x)\u001b[0m\n\u001b[1;32m     57\u001b[0m \u001b[39mdef\u001b[39;00m \u001b[39mlap\u001b[39m(x) :\n\u001b[0;32m---> 58\u001b[0m     \u001b[39mreturn\u001b[39;00m dev2x(x)\u001b[39m+\u001b[39mdev2y(x)\n",
      "Cell \u001b[0;32mIn[73], line 19\u001b[0m, in \u001b[0;36mdev2y\u001b[0;34m(x)\u001b[0m\n\u001b[1;32m     17\u001b[0m             y[i,j,k]\u001b[39m=\u001b[39m(x[i,j,k\u001b[39m+\u001b[39m\u001b[39m1\u001b[39m]\u001b[39m+\u001b[39mx[i,j,k\u001b[39m-\u001b[39m\u001b[39m1\u001b[39m]\u001b[39m-\u001b[39m\u001b[39m2\u001b[39m\u001b[39m*\u001b[39mx[i,j,k])\u001b[39m/\u001b[39m(dx\u001b[39m*\u001b[39mdx)\n\u001b[1;32m     18\u001b[0m     \u001b[39mfor\u001b[39;00m j \u001b[39min\u001b[39;00m \u001b[39mrange\u001b[39m(\u001b[39m0\u001b[39m,\u001b[39mlen\u001b[39m(x[\u001b[39m0\u001b[39m])):\n\u001b[0;32m---> 19\u001b[0m         y[i,j,\u001b[39m0\u001b[39m]\u001b[39m=\u001b[39m(x[i,j,\u001b[39m1\u001b[39m]\u001b[39m-\u001b[39mdevy(x)[i,j,\u001b[39m0\u001b[39m]\u001b[39m*\u001b[39mdx\u001b[39m-\u001b[39mx[i,j,\u001b[39m0\u001b[39m])\u001b[39m*\u001b[39m\u001b[39m2\u001b[39m\u001b[39m/\u001b[39m(dx\u001b[39m*\u001b[39m\u001b[39m*\u001b[39m\u001b[39m2\u001b[39m)\n\u001b[1;32m     20\u001b[0m         y[i,j,\u001b[39mlen\u001b[39m(x[\u001b[39m0\u001b[39m])\u001b[39m-\u001b[39m\u001b[39m1\u001b[39m]\u001b[39m=\u001b[39m(x[i,j,\u001b[39mlen\u001b[39m(x[\u001b[39m0\u001b[39m])\u001b[39m-\u001b[39m\u001b[39m2\u001b[39m]\u001b[39m-\u001b[39mdevy(x)[i,j,\u001b[39mlen\u001b[39m(x[\u001b[39m0\u001b[39m])\u001b[39m-\u001b[39m\u001b[39m1\u001b[39m]\u001b[39m*\u001b[39mdx\u001b[39m-\u001b[39mx[i,j,\u001b[39mlen\u001b[39m(x[\u001b[39m0\u001b[39m])\u001b[39m-\u001b[39m\u001b[39m1\u001b[39m])\u001b[39m*\u001b[39m\u001b[39m2\u001b[39m\u001b[39m/\u001b[39m(dx\u001b[39m*\u001b[39m\u001b[39m*\u001b[39m\u001b[39m2\u001b[39m)\n\u001b[1;32m     21\u001b[0m \u001b[39mreturn\u001b[39;00m y\n",
      "Cell \u001b[0;32mIn[72], line 22\u001b[0m, in \u001b[0;36mdevy\u001b[0;34m(x)\u001b[0m\n\u001b[1;32m     20\u001b[0m     \u001b[39mfor\u001b[39;00m j \u001b[39min\u001b[39;00m \u001b[39mrange\u001b[39m(\u001b[39m0\u001b[39m,\u001b[39mlen\u001b[39m(x[\u001b[39m0\u001b[39m])):\n\u001b[1;32m     21\u001b[0m         y[i,j,\u001b[39m0\u001b[39m]\u001b[39m=\u001b[39m(x[i,j,\u001b[39m1\u001b[39m]\u001b[39m-\u001b[39mx[i,j,\u001b[39m0\u001b[39m])\u001b[39m/\u001b[39m(dx)\n\u001b[0;32m---> 22\u001b[0m         y[i,j,\u001b[39mlen\u001b[39m(x[\u001b[39m0\u001b[39m,\u001b[39m0\u001b[39m])\u001b[39m-\u001b[39m\u001b[39m1\u001b[39m]\u001b[39m=\u001b[39m(x[i,j,\u001b[39mlen\u001b[39;49m(x[\u001b[39m0\u001b[39;49m,\u001b[39m0\u001b[39;49m])\u001b[39m-\u001b[39m\u001b[39m1\u001b[39m]\u001b[39m-\u001b[39mx[i,j,\u001b[39mlen\u001b[39m(x[\u001b[39m0\u001b[39m,\u001b[39m0\u001b[39m])\u001b[39m-\u001b[39m\u001b[39m2\u001b[39m])\u001b[39m/\u001b[39m(dx)\n\u001b[1;32m     24\u001b[0m \u001b[39mreturn\u001b[39;00m y\n",
      "\u001b[0;31mKeyboardInterrupt\u001b[0m: "
     ]
    }
   ],
   "source": [
    "N=100\n",
    "\n",
    "k1=np.zeros((len(psi),len(psi[0]),len(psi[0,0])), dtype=complex)\n",
    "k2=np.zeros((len(psi),len(psi[0]),len(psi[0,0])), dtype=complex)\n",
    "k3=np.zeros((len(psi),len(psi[0]),len(psi[0,0])), dtype=complex)\n",
    "k4=np.zeros((len(psi),len(psi[0]),len(psi[0,0])), dtype=complex)\n",
    "\n",
    "\n",
    "for t in range(N):\n",
    "\n",
    "\n",
    "    k1[0]=evo0(psi)\n",
    "    k1[1]=evo1(psi)\n",
    "    k1[2]=evo2(psi)\n",
    "\n",
    "    k2[0]=evo0(psi+(dt/2)*k1)\n",
    "    k2[1]=evo1(psi+(dt/2)*k1)\n",
    "    k2[2]=evo2(psi+(dt/2)*k1)\n",
    "\n",
    "    k3[0]=evo0(psi+(dt/2)*k2)\n",
    "    k3[1]=evo1(psi+(dt/2)*k2)\n",
    "    k3[2]=evo2(psi+(dt/2)*k2)\n",
    "\n",
    "    k4[0]=evo0(psi+(dt)*k3)\n",
    "    k4[1]=evo1(psi+(dt)*k3)\n",
    "    k4[2]=evo2(psi+(dt)*k3)\n",
    "    \n",
    "    psi=psi+dt*(k1+2*k2+2*k3+k4)/6\n",
    "\n",
    "    psi=psi/np.sqrt(np.absolute(psi[0])**2+np.absolute(psi[1])**2+np.absolute(psi[2])**2)\n",
    "\n",
    "    \n",
    "    print(Egp(psi))\n"
   ]
  },
  {
   "cell_type": "code",
   "execution_count": 78,
   "metadata": {},
   "outputs": [
    {
     "name": "stdout",
     "output_type": "stream",
     "text": [
      "[[[1.+0.j 1.+0.j 1.+0.j ... 1.+0.j 1.+0.j 1.+0.j]\n",
      "  [1.+0.j 1.+0.j 1.+0.j ... 1.+0.j 1.+0.j 1.+0.j]\n",
      "  [1.+0.j 1.+0.j 1.+0.j ... 1.+0.j 1.+0.j 1.+0.j]\n",
      "  ...\n",
      "  [1.+0.j 1.+0.j 1.+0.j ... 1.+0.j 1.+0.j 1.+0.j]\n",
      "  [1.+0.j 1.+0.j 1.+0.j ... 1.+0.j 1.+0.j 1.+0.j]\n",
      "  [1.+0.j 1.+0.j 1.+0.j ... 1.+0.j 1.+0.j 1.+0.j]]\n",
      "\n",
      " [[0.+0.j 0.+0.j 0.+0.j ... 0.+0.j 0.+0.j 0.+0.j]\n",
      "  [0.+0.j 0.+0.j 0.+0.j ... 0.+0.j 0.+0.j 0.+0.j]\n",
      "  [0.+0.j 0.+0.j 0.+0.j ... 0.+0.j 0.+0.j 0.+0.j]\n",
      "  ...\n",
      "  [0.+0.j 0.+0.j 0.+0.j ... 0.+0.j 0.+0.j 0.+0.j]\n",
      "  [0.+0.j 0.+0.j 0.+0.j ... 0.+0.j 0.+0.j 0.+0.j]\n",
      "  [0.+0.j 0.+0.j 0.+0.j ... 0.+0.j 0.+0.j 0.+0.j]]\n",
      "\n",
      " [[0.+0.j 0.+0.j 0.+0.j ... 0.+0.j 0.+0.j 0.+0.j]\n",
      "  [0.+0.j 0.+0.j 0.+0.j ... 0.+0.j 0.+0.j 0.+0.j]\n",
      "  [0.+0.j 0.+0.j 0.+0.j ... 0.+0.j 0.+0.j 0.+0.j]\n",
      "  ...\n",
      "  [0.+0.j 0.+0.j 0.+0.j ... 0.+0.j 0.+0.j 0.+0.j]\n",
      "  [0.+0.j 0.+0.j 0.+0.j ... 0.+0.j 0.+0.j 0.+0.j]\n",
      "  [0.+0.j 0.+0.j 0.+0.j ... 0.+0.j 0.+0.j 0.+0.j]]]\n"
     ]
    }
   ],
   "source": [
    "print(psi)"
   ]
  },
  {
   "cell_type": "code",
   "execution_count": 79,
   "metadata": {},
   "outputs": [
    {
     "name": "stdout",
     "output_type": "stream",
     "text": [
      "[[1. 1. 1. 1. 1. 1. 1. 1. 1. 1. 1. 1. 1. 1. 1. 1. 1. 1. 1. 1.]\n",
      " [1. 1. 1. 1. 1. 1. 1. 1. 1. 1. 1. 1. 1. 1. 1. 1. 1. 1. 1. 1.]\n",
      " [1. 1. 1. 1. 1. 1. 1. 1. 1. 1. 1. 1. 1. 1. 1. 1. 1. 1. 1. 1.]\n",
      " [1. 1. 1. 1. 1. 1. 1. 1. 1. 1. 1. 1. 1. 1. 1. 1. 1. 1. 1. 1.]\n",
      " [1. 1. 1. 1. 1. 1. 1. 1. 1. 1. 1. 1. 1. 1. 1. 1. 1. 1. 1. 1.]\n",
      " [1. 1. 1. 1. 1. 1. 1. 1. 1. 1. 1. 1. 1. 1. 1. 1. 1. 1. 1. 1.]\n",
      " [1. 1. 1. 1. 1. 1. 1. 1. 1. 1. 1. 1. 1. 1. 1. 1. 1. 1. 1. 1.]\n",
      " [1. 1. 1. 1. 1. 1. 1. 1. 1. 1. 1. 1. 1. 1. 1. 1. 1. 1. 1. 1.]\n",
      " [1. 1. 1. 1. 1. 1. 1. 1. 1. 1. 1. 1. 1. 1. 1. 1. 1. 1. 1. 1.]\n",
      " [1. 1. 1. 1. 1. 1. 1. 1. 1. 1. 1. 1. 1. 1. 1. 1. 1. 1. 1. 1.]\n",
      " [1. 1. 1. 1. 1. 1. 1. 1. 1. 1. 1. 1. 1. 1. 1. 1. 1. 1. 1. 1.]\n",
      " [1. 1. 1. 1. 1. 1. 1. 1. 1. 1. 1. 1. 1. 1. 1. 1. 1. 1. 1. 1.]\n",
      " [1. 1. 1. 1. 1. 1. 1. 1. 1. 1. 1. 1. 1. 1. 1. 1. 1. 1. 1. 1.]\n",
      " [1. 1. 1. 1. 1. 1. 1. 1. 1. 1. 1. 1. 1. 1. 1. 1. 1. 1. 1. 1.]\n",
      " [1. 1. 1. 1. 1. 1. 1. 1. 1. 1. 1. 1. 1. 1. 1. 1. 1. 1. 1. 1.]\n",
      " [1. 1. 1. 1. 1. 1. 1. 1. 1. 1. 1. 1. 1. 1. 1. 1. 1. 1. 1. 1.]\n",
      " [1. 1. 1. 1. 1. 1. 1. 1. 1. 1. 1. 1. 1. 1. 1. 1. 1. 1. 1. 1.]\n",
      " [1. 1. 1. 1. 1. 1. 1. 1. 1. 1. 1. 1. 1. 1. 1. 1. 1. 1. 1. 1.]\n",
      " [1. 1. 1. 1. 1. 1. 1. 1. 1. 1. 1. 1. 1. 1. 1. 1. 1. 1. 1. 1.]\n",
      " [1. 1. 1. 1. 1. 1. 1. 1. 1. 1. 1. 1. 1. 1. 1. 1. 1. 1. 1. 1.]]\n"
     ]
    }
   ],
   "source": [
    "print(norm(psi))"
   ]
  },
  {
   "cell_type": "code",
   "execution_count": null,
   "metadata": {},
   "outputs": [],
   "source": []
  }
 ],
 "metadata": {
  "kernelspec": {
   "display_name": "env1",
   "language": "python",
   "name": "python3"
  },
  "language_info": {
   "codemirror_mode": {
    "name": "ipython",
    "version": 3
   },
   "file_extension": ".py",
   "mimetype": "text/x-python",
   "name": "python",
   "nbconvert_exporter": "python",
   "pygments_lexer": "ipython3",
   "version": "3.10.9"
  },
  "orig_nbformat": 4,
  "vscode": {
   "interpreter": {
    "hash": "687c7bd9bfc30de0eb499b86a667cff972914d7d186d5367031e44cea3330a10"
   }
  }
 },
 "nbformat": 4,
 "nbformat_minor": 2
}
